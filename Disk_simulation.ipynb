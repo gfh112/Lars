{
  "cells": [
    {
      "cell_type": "markdown",
      "metadata": {
        "id": "view-in-github",
        "colab_type": "text"
      },
      "source": [
        "<a href=\"https://colab.research.google.com/github/gfh112/Lars/blob/master/Disk_simulation.ipynb\" target=\"_parent\"><img src=\"https://colab.research.google.com/assets/colab-badge.svg\" alt=\"Open In Colab\"/></a>"
      ]
    },
    {
      "cell_type": "code",
      "execution_count": 1,
      "metadata": {
        "id": "iNcZM_J-Dt_B",
        "colab": {
          "base_uri": "https://localhost:8080/"
        },
        "outputId": "94d819f0-b222-4cb1-94a4-ecae7269efd1"
      },
      "outputs": [
        {
          "output_type": "stream",
          "name": "stdout",
          "text": [
            "\u001b[K     |████████████████████████████████| 2.9 MB 5.1 MB/s \n",
            "\u001b[K     |████████████████████████████████| 260 kB 51.8 MB/s \n",
            "\u001b[K     |████████████████████████████████| 3.3 MB 28.7 MB/s \n",
            "\u001b[K     |████████████████████████████████| 1.6 MB 52.0 MB/s \n",
            "\u001b[K     |████████████████████████████████| 271 kB 60.2 MB/s \n",
            "\u001b[?25h"
          ]
        }
      ],
      "source": [
        "!pip install -q ipyvolume \n",
        "#!pip install bqplot\n",
        "\n"
      ]
    },
    {
      "cell_type": "code",
      "source": [
        "#import numpy as np\n",
        "%matplotlib notebook\n",
        "%matplotlib notebook\n",
        "import os\n",
        "import subprocess\n",
        "import fileinput\n",
        "\n",
        "import numpy as np\n",
        "import os\n",
        "import subprocess\n",
        "import fileinput\n",
        "import ipyvolume as ipv\n",
        "import ipywidgets\n",
        "from IPython.display import display\n",
        "%matplotlib notebook\n",
        "%matplotlib notebook"
      ],
      "metadata": {
        "id": "qWStkaK6JFrh"
      },
      "execution_count": 2,
      "outputs": []
    },
    {
      "cell_type": "code",
      "source": [
        "from google.colab import output\n",
        "output.disable_custom_widget_manager()"
      ],
      "metadata": {
        "id": "u2IYSa9pPcBu"
      },
      "execution_count": 3,
      "outputs": []
    },
    {
      "cell_type": "code",
      "source": [
        "from google.colab import drive\n",
        "drive.mount('/content/drive')\n",
        "data_folder='/content/drive/MyDrive/Colab Notebooks/'"
      ],
      "metadata": {
        "colab": {
          "base_uri": "https://localhost:8080/"
        },
        "id": "UysjwawOmsMV",
        "outputId": "03100940-bc11-4de1-c919-97c7030149ec"
      },
      "execution_count": 5,
      "outputs": [
        {
          "output_type": "stream",
          "name": "stdout",
          "text": [
            "Mounted at /content/drive\n"
          ]
        }
      ]
    },
    {
      "cell_type": "code",
      "execution_count": 6,
      "metadata": {
        "id": "E0vm6k_HDt_C"
      },
      "outputs": [],
      "source": [
        "Q=np.load(data_folder+'Q.dat', allow_pickle=True)\n",
        "A=np.load(data_folder+'A.dat',allow_pickle=True)\n",
        "H=np.load(data_folder+'H.dat',allow_pickle=True)\n",
        "X=np.load(data_folder+'X.dat',allow_pickle=True)\n",
        "Y=np.load(data_folder+'Y.dat',allow_pickle=True)\n",
        "Z=np.load(data_folder+'Z.dat',allow_pickle=True)\n"
      ]
    },
    {
      "cell_type": "code",
      "execution_count": 8,
      "metadata": {
        "scrolled": false,
        "id": "20M3aXQeDt_E",
        "colab": {
          "base_uri": "https://localhost:8080/",
          "height": 35,
          "referenced_widgets": [
            "aa5c7f3632b24f7d8a0df771ecbebcc1",
            "783e823f55dc404fbb41fef8e21b3a70",
            "0d8cb92fecf4477a95baed5414d8a097",
            "c96545e3fa7f4530814fc84bb8adfdb7",
            "08ae7d8e9d9d48f1bb28770e8b45d9ff",
            "c0cf9f6f0db34f8aad01e40188d5fcca",
            "fb01c70a07a84ae98d2ef54f1e50e7e9",
            "5f598f466ddb46b998f09d1bf4ebe72d",
            "00955d3c48554803bae09bd177aec290",
            "cef2697ae79843389f64f19fdf42cf12",
            "d8ecf539ecdb4fea9f84a88f25e696ac",
            "66033fd561f8432ca7ec518180db27eb"
          ]
        },
        "outputId": "6f798609-3068-4ed0-f79f-2266c1e1ae4e"
      },
      "outputs": [
        {
          "output_type": "stream",
          "name": "stdout",
          "text": [
            "41.17091855457867 Q\n"
          ]
        },
        {
          "output_type": "display_data",
          "data": {
            "text/plain": [
              "VBox(children=(Figure(animation=80.0, camera=PerspectiveCamera(fov=46.0, position=(-1.969615506024416, 0.0, 0.…"
            ],
            "application/vnd.jupyter.widget-view+json": {
              "version_major": 2,
              "version_minor": 0,
              "model_id": "c96545e3fa7f4530814fc84bb8adfdb7"
            }
          },
          "metadata": {}
        }
      ],
      "source": [
        "from google.colab import output\n",
        "output.disable_custom_widget_manager()\n",
        "\n",
        "from matplotlib import cm\n",
        "import matplotlib.pylab as pl\n",
        "from matplotlib.colors import ListedColormap\n",
        "\n",
        "A1=np.nan_to_num(H)\n",
        "Alpha=np.nan_to_num(A)\n",
        "Qtime=np.nan_to_num(Q)\n",
        "print(Qtime.max(), 'Q')\n",
        "cmap = cm.rainbow_r\n",
        "# Get the colormap colors\n",
        "my_cmap = cmap(np.arange(len(Alpha)))\n",
        "# Define the alphas in the range from 0 to 1\n",
        "alphas = Alpha/Alpha.max()#np.linspace(0, 1, cmap.N)\n",
        "# Define the background as white\n",
        "BG = np.asarray([1., 1., 1.,])\n",
        "\n",
        "cmap.set_bad(color='white')\n",
        "cmap.set_under(color='white')   \n",
        "cmap.set_over(color='white')   \n",
        "znorm = (A1 - A1.min())/(2)#*A1\n",
        "znorm[znorm>2]=2\n",
        "znorm[znorm<0.01]=0.0\n",
        "\n",
        "color = cmap(znorm)\n",
        "\n",
        "\n",
        "color[:,:,3] = alphas **0.1\n",
        "\n",
        "\n",
        "timebins=np.linspace(0,35,35)\n",
        "test1=[]\n",
        "color2=[]\n",
        "\n",
        "for j, ttest in enumerate(timebins[:-1]):\n",
        "    test=np.copy(Qtime)\n",
        "    color1=np.copy(color)\n",
        "    ix1=(Qtime<timebins[j+1])&(Qtime>timebins[j])\n",
        "    ix2=np.invert(ix1)\n",
        "    test[ix1]=1.0\n",
        "    test[ix2]=-0.1\n",
        "    color1[:,:,3] = alphas **0.45 *test\n",
        "    color2.append(color1)\n",
        "    test1.append(test)\n",
        "\n",
        "color2=np.array(color2)\n",
        "\n",
        "\n",
        "grey1=(0.5, 0.5,0.5, 0.05)\n",
        "#grey1=(12, 8, 12, 0.5)\n",
        "\n",
        "\n",
        "qz=np.array([10.0])\n",
        "qxy=np.array([0.0])\n",
        "fig=ipv.figure()\n",
        "\n",
        "\n",
        "mesh = ipv.plot_mesh(X, Y, Z,color=color2[...,:4] , wireframe=False)\n",
        "w1 = ipv.plot_mesh(X, Y, Z, color=grey1, wireframe=False)#\n",
        "w1.material.transparent = True\n",
        "\n",
        "mesh.material.transparent = True\n",
        "\n",
        "\n",
        "w2=ipv.scatter(qxy, qxy, qz, marker='sphere', size=1, color='yellow')\n",
        "w2=ipv.scatter(qxy, qxy, qxy, marker='sphere', size=1, color='black')\n",
        "\n",
        "w2.material.transparent = True\n",
        "Rtest=np.linspace(0,100,50)\n",
        "ipv.plot(np.zeros(np.shape(Rtest)), Rtest, Rtest/np.tan(5*np.pi/180))#\n",
        "\n",
        "\n",
        "ipv.animation_control(mesh, interval=80)#, sequence_length=50)\n",
        "\n",
        "\n",
        "ipv.ylim(-100, 100)\n",
        "ipv.xlim(-100, 100)\n",
        "ipv.zlim(0, 200)\n",
        "ipv.xyzlabel('X [Rg]', 'Y [Rg]', 'Z [Rg]')\n",
        "ipv.style.box_off()\n",
        "ipv.view(-800, 0)\n",
        "\n",
        "\n",
        "ipv.show()\n"
      ]
    },
    {
      "cell_type": "code",
      "execution_count": null,
      "metadata": {
        "id": "ftqbHTm7Dt_G"
      },
      "outputs": [],
      "source": []
    }
  ],
  "metadata": {
    "kernelspec": {
      "display_name": "Python 3",
      "language": "python",
      "name": "python3"
    },
    "language_info": {
      "codemirror_mode": {
        "name": "ipython",
        "version": 3
      },
      "file_extension": ".py",
      "mimetype": "text/x-python",
      "name": "python",
      "nbconvert_exporter": "python",
      "pygments_lexer": "ipython3",
      "version": "3.7.4"
    },
    "colab": {
      "provenance": [],
      "collapsed_sections": [],
      "include_colab_link": true
    },
    "widgets": {
      "application/vnd.jupyter.widget-state+json": {
        "aa5c7f3632b24f7d8a0df771ecbebcc1": {
          "model_module": "@jupyter-widgets/controls",
          "model_name": "PlayModel",
          "model_module_version": "1.5.0",
          "state": {
            "_dom_classes": [],
            "_model_module": "@jupyter-widgets/controls",
            "_model_module_version": "1.5.0",
            "_model_name": "PlayModel",
            "_playing": false,
            "_repeat": false,
            "_view_count": null,
            "_view_module": "@jupyter-widgets/controls",
            "_view_module_version": "1.5.0",
            "_view_name": "PlayView",
            "description": "",
            "description_tooltip": null,
            "disabled": false,
            "interval": 80,
            "layout": "IPY_MODEL_08ae7d8e9d9d48f1bb28770e8b45d9ff",
            "max": 33,
            "min": 0,
            "show_repeat": true,
            "step": 1,
            "style": "IPY_MODEL_c0cf9f6f0db34f8aad01e40188d5fcca",
            "value": 0
          }
        },
        "783e823f55dc404fbb41fef8e21b3a70": {
          "model_module": "@jupyter-widgets/controls",
          "model_name": "FloatSliderModel",
          "model_module_version": "1.5.0",
          "state": {
            "_dom_classes": [],
            "_model_module": "@jupyter-widgets/controls",
            "_model_module_version": "1.5.0",
            "_model_name": "FloatSliderModel",
            "_view_count": null,
            "_view_module": "@jupyter-widgets/controls",
            "_view_module_version": "1.5.0",
            "_view_name": "FloatSliderView",
            "continuous_update": true,
            "description": "",
            "description_tooltip": null,
            "disabled": false,
            "layout": "IPY_MODEL_fb01c70a07a84ae98d2ef54f1e50e7e9",
            "max": 33,
            "min": 0,
            "orientation": "horizontal",
            "readout": true,
            "readout_format": ".2f",
            "step": 1,
            "style": "IPY_MODEL_5f598f466ddb46b998f09d1bf4ebe72d",
            "value": 0
          }
        },
        "0d8cb92fecf4477a95baed5414d8a097": {
          "model_module": "ipyvolume",
          "model_name": "MeshModel",
          "model_module_version": "~0.5.2",
          "state": {
            "_model_module": "ipyvolume",
            "_model_module_version": "~0.5.2",
            "_model_name": "MeshModel",
            "_view_count": null,
            "_view_module": "ipyvolume",
            "_view_module_version": "~0.5.2",
            "_view_name": "MeshView",
            "color": [
              {
                "dtype": "float32",
                "shape": [
                  22201,
                  4
                ]
              },
              {
                "dtype": "float32",
                "shape": [
                  22201,
                  4
                ]
              },
              {
                "dtype": "float32",
                "shape": [
                  22201,
                  4
                ]
              },
              {
                "dtype": "float32",
                "shape": [
                  22201,
                  4
                ]
              },
              {
                "dtype": "float32",
                "shape": [
                  22201,
                  4
                ]
              },
              {
                "dtype": "float32",
                "shape": [
                  22201,
                  4
                ]
              },
              {
                "dtype": "float32",
                "shape": [
                  22201,
                  4
                ]
              },
              {
                "dtype": "float32",
                "shape": [
                  22201,
                  4
                ]
              },
              {
                "dtype": "float32",
                "shape": [
                  22201,
                  4
                ]
              },
              {
                "dtype": "float32",
                "shape": [
                  22201,
                  4
                ]
              },
              {
                "dtype": "float32",
                "shape": [
                  22201,
                  4
                ]
              },
              {
                "dtype": "float32",
                "shape": [
                  22201,
                  4
                ]
              },
              {
                "dtype": "float32",
                "shape": [
                  22201,
                  4
                ]
              },
              {
                "dtype": "float32",
                "shape": [
                  22201,
                  4
                ]
              },
              {
                "dtype": "float32",
                "shape": [
                  22201,
                  4
                ]
              },
              {
                "dtype": "float32",
                "shape": [
                  22201,
                  4
                ]
              },
              {
                "dtype": "float32",
                "shape": [
                  22201,
                  4
                ]
              },
              {
                "dtype": "float32",
                "shape": [
                  22201,
                  4
                ]
              },
              {
                "dtype": "float32",
                "shape": [
                  22201,
                  4
                ]
              },
              {
                "dtype": "float32",
                "shape": [
                  22201,
                  4
                ]
              },
              {
                "dtype": "float32",
                "shape": [
                  22201,
                  4
                ]
              },
              {
                "dtype": "float32",
                "shape": [
                  22201,
                  4
                ]
              },
              {
                "dtype": "float32",
                "shape": [
                  22201,
                  4
                ]
              },
              {
                "dtype": "float32",
                "shape": [
                  22201,
                  4
                ]
              },
              {
                "dtype": "float32",
                "shape": [
                  22201,
                  4
                ]
              },
              {
                "dtype": "float32",
                "shape": [
                  22201,
                  4
                ]
              },
              {
                "dtype": "float32",
                "shape": [
                  22201,
                  4
                ]
              },
              {
                "dtype": "float32",
                "shape": [
                  22201,
                  4
                ]
              },
              {
                "dtype": "float32",
                "shape": [
                  22201,
                  4
                ]
              },
              {
                "dtype": "float32",
                "shape": [
                  22201,
                  4
                ]
              },
              {
                "dtype": "float32",
                "shape": [
                  22201,
                  4
                ]
              },
              {
                "dtype": "float32",
                "shape": [
                  22201,
                  4
                ]
              },
              {
                "dtype": "float32",
                "shape": [
                  22201,
                  4
                ]
              },
              {
                "dtype": "float32",
                "shape": [
                  22201,
                  4
                ]
              }
            ],
            "line_material": "IPY_MODEL_17fc2ad4dba349b2a61df07f0b36dec9",
            "lines": null,
            "material": "IPY_MODEL_694aaa03fd6846a89615cfa84f728fe5",
            "sequence_index": 0,
            "texture": null,
            "triangles": [
              {
                "dtype": "uint32",
                "shape": [
                  43808,
                  3
                ]
              }
            ],
            "u": null,
            "v": null,
            "visible": true,
            "x": [
              {
                "dtype": "float32",
                "shape": [
                  22201
                ]
              }
            ],
            "y": [
              {
                "dtype": "float32",
                "shape": [
                  22201
                ]
              }
            ],
            "z": [
              {
                "dtype": "float32",
                "shape": [
                  22201
                ]
              }
            ]
          }
        },
        "c96545e3fa7f4530814fc84bb8adfdb7": {
          "model_module": "@jupyter-widgets/controls",
          "model_name": "VBoxModel",
          "model_module_version": "1.5.0",
          "state": {
            "_dom_classes": [],
            "_model_module": "@jupyter-widgets/controls",
            "_model_module_version": "1.5.0",
            "_model_name": "VBoxModel",
            "_view_count": null,
            "_view_module": "@jupyter-widgets/controls",
            "_view_module_version": "1.5.0",
            "_view_name": "VBoxView",
            "box_style": "",
            "children": [
              "IPY_MODEL_00955d3c48554803bae09bd177aec290",
              "IPY_MODEL_cef2697ae79843389f64f19fdf42cf12"
            ],
            "layout": "IPY_MODEL_d8ecf539ecdb4fea9f84a88f25e696ac"
          }
        },
        "08ae7d8e9d9d48f1bb28770e8b45d9ff": {
          "model_module": "@jupyter-widgets/base",
          "model_name": "LayoutModel",
          "model_module_version": "1.2.0",
          "state": {
            "_model_module": "@jupyter-widgets/base",
            "_model_module_version": "1.2.0",
            "_model_name": "LayoutModel",
            "_view_count": null,
            "_view_module": "@jupyter-widgets/base",
            "_view_module_version": "1.2.0",
            "_view_name": "LayoutView",
            "align_content": null,
            "align_items": null,
            "align_self": null,
            "border": null,
            "bottom": null,
            "display": null,
            "flex": null,
            "flex_flow": null,
            "grid_area": null,
            "grid_auto_columns": null,
            "grid_auto_flow": null,
            "grid_auto_rows": null,
            "grid_column": null,
            "grid_gap": null,
            "grid_row": null,
            "grid_template_areas": null,
            "grid_template_columns": null,
            "grid_template_rows": null,
            "height": null,
            "justify_content": null,
            "justify_items": null,
            "left": null,
            "margin": null,
            "max_height": null,
            "max_width": null,
            "min_height": null,
            "min_width": null,
            "object_fit": null,
            "object_position": null,
            "order": null,
            "overflow": null,
            "overflow_x": null,
            "overflow_y": null,
            "padding": null,
            "right": null,
            "top": null,
            "visibility": null,
            "width": null
          }
        },
        "c0cf9f6f0db34f8aad01e40188d5fcca": {
          "model_module": "@jupyter-widgets/controls",
          "model_name": "DescriptionStyleModel",
          "model_module_version": "1.5.0",
          "state": {
            "_model_module": "@jupyter-widgets/controls",
            "_model_module_version": "1.5.0",
            "_model_name": "DescriptionStyleModel",
            "_view_count": null,
            "_view_module": "@jupyter-widgets/base",
            "_view_module_version": "1.2.0",
            "_view_name": "StyleView",
            "description_width": ""
          }
        },
        "fb01c70a07a84ae98d2ef54f1e50e7e9": {
          "model_module": "@jupyter-widgets/base",
          "model_name": "LayoutModel",
          "model_module_version": "1.2.0",
          "state": {
            "_model_module": "@jupyter-widgets/base",
            "_model_module_version": "1.2.0",
            "_model_name": "LayoutModel",
            "_view_count": null,
            "_view_module": "@jupyter-widgets/base",
            "_view_module_version": "1.2.0",
            "_view_name": "LayoutView",
            "align_content": null,
            "align_items": null,
            "align_self": null,
            "border": null,
            "bottom": null,
            "display": null,
            "flex": null,
            "flex_flow": null,
            "grid_area": null,
            "grid_auto_columns": null,
            "grid_auto_flow": null,
            "grid_auto_rows": null,
            "grid_column": null,
            "grid_gap": null,
            "grid_row": null,
            "grid_template_areas": null,
            "grid_template_columns": null,
            "grid_template_rows": null,
            "height": null,
            "justify_content": null,
            "justify_items": null,
            "left": null,
            "margin": null,
            "max_height": null,
            "max_width": null,
            "min_height": null,
            "min_width": null,
            "object_fit": null,
            "object_position": null,
            "order": null,
            "overflow": null,
            "overflow_x": null,
            "overflow_y": null,
            "padding": null,
            "right": null,
            "top": null,
            "visibility": null,
            "width": null
          }
        },
        "5f598f466ddb46b998f09d1bf4ebe72d": {
          "model_module": "@jupyter-widgets/controls",
          "model_name": "SliderStyleModel",
          "model_module_version": "1.5.0",
          "state": {
            "_model_module": "@jupyter-widgets/controls",
            "_model_module_version": "1.5.0",
            "_model_name": "SliderStyleModel",
            "_view_count": null,
            "_view_module": "@jupyter-widgets/base",
            "_view_module_version": "1.2.0",
            "_view_name": "StyleView",
            "description_width": "",
            "handle_color": null
          }
        },
        "00955d3c48554803bae09bd177aec290": {
          "model_module": "ipyvolume",
          "model_name": "FigureModel",
          "model_module_version": "~0.5.2",
          "state": {
            "_dom_classes": [],
            "_model_module": "ipyvolume",
            "_model_module_version": "~0.5.2",
            "_model_name": "FigureModel",
            "_view_count": null,
            "_view_module": "ipyvolume",
            "_view_module_version": "~0.5.2",
            "_view_name": "FigureView",
            "ambient_coefficient": 0.5,
            "animation": 80,
            "animation_exponent": 1,
            "camera": "IPY_MODEL_e35aeb52c4ce411d829491f4fd3233b5",
            "camera_center": [
              0,
              0,
              0
            ],
            "camera_control": "trackball",
            "camera_fov": 45,
            "capture_fps": null,
            "cube_resolution": 512,
            "diffuse_coefficient": 0.8,
            "displayscale": 1,
            "downscale": 1,
            "eye_separation": 6.4,
            "height": 500,
            "layout": "IPY_MODEL_9e8d8d3c1c734dd9b65151b3e551388a",
            "matrix_projection": [
              0,
              0,
              0,
              0,
              0,
              0,
              0,
              0,
              0,
              0,
              0,
              0,
              0,
              0,
              0,
              0
            ],
            "matrix_world": [
              0,
              0,
              0,
              0,
              0,
              0,
              0,
              0,
              0,
              0,
              0,
              0,
              0,
              0,
              0,
              0
            ],
            "meshes": [
              "IPY_MODEL_0d8cb92fecf4477a95baed5414d8a097",
              "IPY_MODEL_854f9077d8324dc2944657ca8b6f30ab"
            ],
            "mouse_mode": "normal",
            "panorama_mode": "no",
            "render_continuous": false,
            "scatters": [
              "IPY_MODEL_e302da45205541e9bd3e0c2f560c7966",
              "IPY_MODEL_835d2dbac8a346a78c6769d39420c4b5",
              "IPY_MODEL_e52593fe48ae4efb9f52dec1f43b604d"
            ],
            "scene": "IPY_MODEL_52a2d6f99cf34720aa53ad0ac0f04947",
            "selection_mode": "replace",
            "selector": "lasso",
            "show": "Volume",
            "specular_coefficient": 0.5,
            "specular_exponent": 5,
            "stereo": false,
            "style": {
              "axes": {
                "visible": true,
                "label": {
                  "color": "black"
                },
                "ticklabel": {
                  "color": "black"
                },
                "color": "black"
              },
              "box": {
                "visible": false
              },
              "background-color": "white"
            },
            "volumes": [],
            "width": 400,
            "xlabel": "X [Rg]",
            "xlim": [
              -100,
              100
            ],
            "ylabel": "Y [Rg]",
            "ylim": [
              -100,
              100
            ],
            "zlabel": "Z [Rg]",
            "zlim": [
              0,
              200
            ]
          }
        },
        "cef2697ae79843389f64f19fdf42cf12": {
          "model_module": "@jupyter-widgets/controls",
          "model_name": "HBoxModel",
          "model_module_version": "1.5.0",
          "state": {
            "_dom_classes": [],
            "_model_module": "@jupyter-widgets/controls",
            "_model_module_version": "1.5.0",
            "_model_name": "HBoxModel",
            "_view_count": null,
            "_view_module": "@jupyter-widgets/controls",
            "_view_module_version": "1.5.0",
            "_view_name": "HBoxView",
            "box_style": "",
            "children": [
              "IPY_MODEL_aa5c7f3632b24f7d8a0df771ecbebcc1",
              "IPY_MODEL_783e823f55dc404fbb41fef8e21b3a70"
            ],
            "layout": "IPY_MODEL_66033fd561f8432ca7ec518180db27eb"
          }
        },
        "d8ecf539ecdb4fea9f84a88f25e696ac": {
          "model_module": "@jupyter-widgets/base",
          "model_name": "LayoutModel",
          "model_module_version": "1.2.0",
          "state": {
            "_model_module": "@jupyter-widgets/base",
            "_model_module_version": "1.2.0",
            "_model_name": "LayoutModel",
            "_view_count": null,
            "_view_module": "@jupyter-widgets/base",
            "_view_module_version": "1.2.0",
            "_view_name": "LayoutView",
            "align_content": null,
            "align_items": null,
            "align_self": null,
            "border": null,
            "bottom": null,
            "display": null,
            "flex": null,
            "flex_flow": null,
            "grid_area": null,
            "grid_auto_columns": null,
            "grid_auto_flow": null,
            "grid_auto_rows": null,
            "grid_column": null,
            "grid_gap": null,
            "grid_row": null,
            "grid_template_areas": null,
            "grid_template_columns": null,
            "grid_template_rows": null,
            "height": null,
            "justify_content": null,
            "justify_items": null,
            "left": null,
            "margin": null,
            "max_height": null,
            "max_width": null,
            "min_height": null,
            "min_width": null,
            "object_fit": null,
            "object_position": null,
            "order": null,
            "overflow": null,
            "overflow_x": null,
            "overflow_y": null,
            "padding": null,
            "right": null,
            "top": null,
            "visibility": null,
            "width": null
          }
        },
        "66033fd561f8432ca7ec518180db27eb": {
          "model_module": "@jupyter-widgets/base",
          "model_name": "LayoutModel",
          "model_module_version": "1.2.0",
          "state": {
            "_model_module": "@jupyter-widgets/base",
            "_model_module_version": "1.2.0",
            "_model_name": "LayoutModel",
            "_view_count": null,
            "_view_module": "@jupyter-widgets/base",
            "_view_module_version": "1.2.0",
            "_view_name": "LayoutView",
            "align_content": null,
            "align_items": null,
            "align_self": null,
            "border": null,
            "bottom": null,
            "display": null,
            "flex": null,
            "flex_flow": null,
            "grid_area": null,
            "grid_auto_columns": null,
            "grid_auto_flow": null,
            "grid_auto_rows": null,
            "grid_column": null,
            "grid_gap": null,
            "grid_row": null,
            "grid_template_areas": null,
            "grid_template_columns": null,
            "grid_template_rows": null,
            "height": null,
            "justify_content": null,
            "justify_items": null,
            "left": null,
            "margin": null,
            "max_height": null,
            "max_width": null,
            "min_height": null,
            "min_width": null,
            "object_fit": null,
            "object_position": null,
            "order": null,
            "overflow": null,
            "overflow_x": null,
            "overflow_y": null,
            "padding": null,
            "right": null,
            "top": null,
            "visibility": null,
            "width": null
          }
        }
      }
    },
    "gpuClass": "standard"
  },
  "nbformat": 4,
  "nbformat_minor": 0
}